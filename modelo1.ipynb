{
 "cells": [
  {
   "cell_type": "code",
   "execution_count": 225,
   "metadata": {
    "id": "LcJa6vSCwT47"
   },
   "outputs": [],
   "source": [
    "#Librerias\n",
    "import numpy as np\n",
    "import pandas as pd\n",
    "import matplotlib.pyplot as plt\n",
    "from keras.models import Sequential\n",
    "from keras.layers import Conv2D\n",
    "from keras.layers import MaxPooling2D\n",
    "from keras.layers import Flatten\n",
    "from keras.layers import Dense\n",
    "from keras.preprocessing.image import ImageDataGenerator\n",
    "import tensorflow as tf"
   ]
  },
  {
   "cell_type": "code",
   "execution_count": 226,
   "metadata": {
    "id": "lMXm8HvNQvX1"
   },
   "outputs": [],
   "source": [
    "#Generar datos de entrenamiento\n",
    "train_data = ImageDataGenerator(rescale = 1./255,\n",
    "                                   shear_range = 0.2,\n",
    "                                   zoom_range = 0.2,\n",
    "                                   horizontal_flip = True)"
   ]
  },
  {
   "cell_type": "code",
   "execution_count": 227,
   "metadata": {
    "colab": {
     "base_uri": "https://localhost:8080/"
    },
    "id": "d2GtfAtgSNfr",
    "outputId": "449700b6-213c-40c3-e47a-4579dbbdcaaf"
   },
   "outputs": [
    {
     "name": "stdout",
     "output_type": "stream",
     "text": [
      "Found 5078 images belonging to 10 classes.\n"
     ]
    }
   ],
   "source": [
    "#Generar datos de entrenamiento\n",
    "train_generator = train_data.flow_from_directory(\n",
    "    \"dataset_v2/train_dataset/train\",\n",
    "    target_size=(32, 32),\n",
    "    color_mode=\"rgb\",\n",
    "    subset = \"training\",\n",
    "    batch_size=32,\n",
    "    class_mode=\"categorical\")"
   ]
  },
  {
   "cell_type": "code",
   "execution_count": 228,
   "metadata": {
    "id": "X8WsAH14R7oD"
   },
   "outputs": [],
   "source": [
    "#Generar datos de prueba\n",
    "test_data = ImageDataGenerator(rescale = 1./255)"
   ]
  },
  {
   "cell_type": "code",
   "execution_count": 229,
   "metadata": {
    "colab": {
     "base_uri": "https://localhost:8080/"
    },
    "id": "t4aV2AAcYT8F",
    "outputId": "cebb5893-f8e6-4e28-8e95-bb52c4a98916"
   },
   "outputs": [
    {
     "name": "stdout",
     "output_type": "stream",
     "text": [
      "Found 1270 images belonging to 10 classes.\n"
     ]
    }
   ],
   "source": [
    "#Generar datos de prueba\n",
    "test_generator = test_data.flow_from_directory(\n",
    "    \"dataset_v2/test_dataset/test\",\n",
    "    target_size=(32, 32),\n",
    "    color_mode=\"rgb\",\n",
    "    batch_size=32,\n",
    "    class_mode=\"categorical\")"
   ]
  },
  {
   "cell_type": "markdown",
   "metadata": {
    "id": "oZMwjeptgHWP"
   },
   "source": [
    "## Construccion Red Neuronal (Modelo 1)"
   ]
  },
  {
   "cell_type": "code",
   "execution_count": 230,
   "metadata": {
    "id": "67AmCJZSgQQc"
   },
   "outputs": [],
   "source": [
    "# Se inicializa CNN\n",
    "model = Sequential()"
   ]
  },
  {
   "cell_type": "code",
   "execution_count": 231,
   "metadata": {
    "id": "S6TTmJ32gce-"
   },
   "outputs": [],
   "source": [
    "#1 Convolution\n",
    "capa1=Conv2D(filters = 32,\n",
    "             kernel_size = (5, 5),                       \n",
    "             input_shape = (32, 32, 3), \n",
    "             activation = \"relu\",\n",
    "             strides=1,\n",
    "             padding=\"same\")"
   ]
  },
  {
   "cell_type": "code",
   "execution_count": 232,
   "metadata": {
    "id": "b_0CrL8VigoP"
   },
   "outputs": [],
   "source": [
    "#2: Max Pooling\n",
    "capa2=MaxPooling2D(pool_size = (5,5))"
   ]
  },
  {
   "cell_type": "code",
   "execution_count": 233,
   "metadata": {
    "id": "ti5204RKitJ5"
   },
   "outputs": [],
   "source": [
    "#3: Flattening\n",
    "capa3=Flatten()"
   ]
  },
  {
   "cell_type": "code",
   "execution_count": 234,
   "metadata": {
    "id": "x2nSv_t3jAmq"
   },
   "outputs": [],
   "source": [
    "#4: Full Connection\n",
    "capa4=Dense(100, activation = \"relu\")"
   ]
  },
  {
   "cell_type": "code",
   "execution_count": 235,
   "metadata": {
    "id": "uvpbbepSnB0x"
   },
   "outputs": [],
   "source": [
    "#5: Outputs\n",
    "outputs=Dense(10, activation = \"softmax\")"
   ]
  },
  {
   "cell_type": "code",
   "execution_count": 236,
   "metadata": {
    "id": "3H5g-vTfm8_R"
   },
   "outputs": [],
   "source": [
    "#6 Se construye toda la Red\n",
    "model.add(capa1)\n",
    "model.add(capa2)\n",
    "model.add(capa3)\n",
    "model.add(capa4)\n",
    "model.add(outputs)"
   ]
  },
  {
   "cell_type": "code",
   "execution_count": 237,
   "metadata": {
    "colab": {
     "base_uri": "https://localhost:8080/"
    },
    "id": "LcMTJtT-jm2s",
    "outputId": "a87cbc7f-760c-4969-a40f-57e797f59e0a"
   },
   "outputs": [
    {
     "name": "stdout",
     "output_type": "stream",
     "text": [
      "Model: \"sequential_12\"\n",
      "_________________________________________________________________\n",
      " Layer (type)                Output Shape              Param #   \n",
      "=================================================================\n",
      " conv2d_12 (Conv2D)          (None, 32, 32, 32)        2432      \n",
      "                                                                 \n",
      " max_pooling2d_12 (MaxPoolin  (None, 6, 6, 32)         0         \n",
      " g2D)                                                            \n",
      "                                                                 \n",
      " flatten_12 (Flatten)        (None, 1152)              0         \n",
      "                                                                 \n",
      " dense_23 (Dense)            (None, 100)               115300    \n",
      "                                                                 \n",
      " dense_24 (Dense)            (None, 10)                1010      \n",
      "                                                                 \n",
      "=================================================================\n",
      "Total params: 118,742\n",
      "Trainable params: 118,742\n",
      "Non-trainable params: 0\n",
      "_________________________________________________________________\n"
     ]
    }
   ],
   "source": [
    "model.summary()"
   ]
  },
  {
   "cell_type": "code",
   "execution_count": 238,
   "metadata": {
    "id": "XEgsa6Axj6MH"
   },
   "outputs": [],
   "source": [
    "#Compilar CNN\n",
    "model.compile(loss = \"categorical_crossentropy\",\n",
    "                   optimizer = \"adam\",\n",
    "                   metrics=['accuracy'])"
   ]
  },
  {
   "cell_type": "markdown",
   "metadata": {
    "id": "XOtchwZmqr9p"
   },
   "source": [
    "## Entrenar Modelo\n",
    "\n"
   ]
  },
  {
   "cell_type": "code",
   "execution_count": 239,
   "metadata": {
    "colab": {
     "base_uri": "https://localhost:8080/"
    },
    "id": "IvD0ITJKq2Vu",
    "outputId": "ba3f3c99-6f84-4111-c3ea-40e1c2237b94"
   },
   "outputs": [
    {
     "name": "stdout",
     "output_type": "stream",
     "text": [
      "Epoch 1/20\n"
     ]
    },
    {
     "name": "stderr",
     "output_type": "stream",
     "text": [
      "2023-05-08 16:17:17.589694: I tensorflow/core/common_runtime/executor.cc:1197] [/device:CPU:0] (DEBUG INFO) Executor start aborting (this does not indicate an error and you can ignore this message): INVALID_ARGUMENT: You must feed a value for placeholder tensor 'Placeholder/_0' with dtype int32\n",
      "\t [[{{node Placeholder/_0}}]]\n"
     ]
    },
    {
     "name": "stdout",
     "output_type": "stream",
     "text": [
      "157/159 [============================>.] - ETA: 0s - loss: 1.0833 - accuracy: 0.6531"
     ]
    },
    {
     "name": "stderr",
     "output_type": "stream",
     "text": [
      "2023-05-08 16:17:21.463633: I tensorflow/core/common_runtime/executor.cc:1197] [/device:CPU:0] (DEBUG INFO) Executor start aborting (this does not indicate an error and you can ignore this message): INVALID_ARGUMENT: You must feed a value for placeholder tensor 'Placeholder/_0' with dtype int32\n",
      "\t [[{{node Placeholder/_0}}]]\n"
     ]
    },
    {
     "name": "stdout",
     "output_type": "stream",
     "text": [
      "159/159 [==============================] - 4s 26ms/step - loss: 1.0824 - accuracy: 0.6538 - val_loss: 0.6755 - val_accuracy: 0.7906\n",
      "Epoch 2/20\n",
      "159/159 [==============================] - 4s 25ms/step - loss: 0.6295 - accuracy: 0.8143 - val_loss: 0.5561 - val_accuracy: 0.8677\n",
      "Epoch 3/20\n",
      "159/159 [==============================] - 4s 25ms/step - loss: 0.4926 - accuracy: 0.8545 - val_loss: 0.3669 - val_accuracy: 0.8976\n",
      "Epoch 4/20\n",
      "159/159 [==============================] - 4s 25ms/step - loss: 0.4262 - accuracy: 0.8779 - val_loss: 0.3292 - val_accuracy: 0.9102\n",
      "Epoch 5/20\n",
      "159/159 [==============================] - 4s 25ms/step - loss: 0.3641 - accuracy: 0.8982 - val_loss: 0.3033 - val_accuracy: 0.9181\n",
      "Epoch 6/20\n",
      "159/159 [==============================] - 4s 25ms/step - loss: 0.3175 - accuracy: 0.9106 - val_loss: 0.3330 - val_accuracy: 0.9016\n",
      "Epoch 7/20\n",
      "159/159 [==============================] - 4s 24ms/step - loss: 0.3014 - accuracy: 0.9149 - val_loss: 0.2465 - val_accuracy: 0.9339\n",
      "Epoch 8/20\n",
      "159/159 [==============================] - 4s 24ms/step - loss: 0.2700 - accuracy: 0.9242 - val_loss: 0.2304 - val_accuracy: 0.9417\n",
      "Epoch 9/20\n",
      "159/159 [==============================] - 4s 24ms/step - loss: 0.2605 - accuracy: 0.9210 - val_loss: 0.2494 - val_accuracy: 0.9354\n",
      "Epoch 10/20\n",
      "159/159 [==============================] - 4s 24ms/step - loss: 0.2440 - accuracy: 0.9260 - val_loss: 0.2327 - val_accuracy: 0.9370\n",
      "Epoch 11/20\n",
      "159/159 [==============================] - 4s 24ms/step - loss: 0.2349 - accuracy: 0.9305 - val_loss: 0.2325 - val_accuracy: 0.9394\n",
      "Epoch 12/20\n",
      "159/159 [==============================] - 4s 24ms/step - loss: 0.2130 - accuracy: 0.9390 - val_loss: 0.1936 - val_accuracy: 0.9441\n",
      "Epoch 13/20\n",
      "159/159 [==============================] - 4s 24ms/step - loss: 0.2215 - accuracy: 0.9354 - val_loss: 0.1930 - val_accuracy: 0.9480\n",
      "Epoch 14/20\n",
      "159/159 [==============================] - 4s 24ms/step - loss: 0.1935 - accuracy: 0.9433 - val_loss: 0.1845 - val_accuracy: 0.9559\n",
      "Epoch 15/20\n",
      "159/159 [==============================] - 4s 25ms/step - loss: 0.1817 - accuracy: 0.9502 - val_loss: 0.1803 - val_accuracy: 0.9535\n",
      "Epoch 16/20\n",
      "159/159 [==============================] - 4s 26ms/step - loss: 0.1849 - accuracy: 0.9486 - val_loss: 0.1831 - val_accuracy: 0.9465\n",
      "Epoch 17/20\n",
      "159/159 [==============================] - 4s 25ms/step - loss: 0.1745 - accuracy: 0.9486 - val_loss: 0.1649 - val_accuracy: 0.9591\n",
      "Epoch 18/20\n",
      "159/159 [==============================] - 4s 25ms/step - loss: 0.1707 - accuracy: 0.9496 - val_loss: 0.1609 - val_accuracy: 0.9583\n",
      "Epoch 19/20\n",
      "159/159 [==============================] - 4s 25ms/step - loss: 0.1651 - accuracy: 0.9531 - val_loss: 0.1917 - val_accuracy: 0.9551\n",
      "Epoch 20/20\n",
      "159/159 [==============================] - 4s 26ms/step - loss: 0.1535 - accuracy: 0.9559 - val_loss: 0.1853 - val_accuracy: 0.9535\n"
     ]
    }
   ],
   "source": [
    "cnn=model.fit(train_generator,\n",
    "                   batch_size=200,\n",
    "                   epochs=20,\n",
    "                   validation_data=(test_generator)\n",
    "               )              "
   ]
  },
  {
   "cell_type": "code",
   "execution_count": 240,
   "metadata": {
    "colab": {
     "base_uri": "https://localhost:8080/",
     "height": 312
    },
    "id": "ajbitk3wDTTG",
    "outputId": "61309fe9-24eb-47d6-eded-9fcb2b2c1589"
   },
   "outputs": [
    {
     "data": {
      "text/plain": [
       "<matplotlib.legend.Legend at 0x7f1e183b2c50>"
      ]
     },
     "execution_count": 240,
     "metadata": {},
     "output_type": "execute_result"
    },
    {
     "data": {
      "image/png": "[encoded data removed]",
      "text/plain": [
       "<Figure size 432x288 with 1 Axes>"
      ]
     },
     "metadata": {
      "needs_background": "light"
     },
     "output_type": "display_data"
    }
   ],
   "source": [
    "#Gráfica de entrenamiento y pruebas\n",
    "plt.figure(0)  \n",
    "plt.plot(cnn.history['accuracy'], label='training accuracy')  \n",
    "plt.plot(cnn.history['val_accuracy'], label='val accuracy')   \n",
    "plt.xlabel(\"Num of Epochs\")  \n",
    "plt.ylabel(\"Accuracy\")  \n",
    "plt.title(\"Training Accuracy vs Validation Accuracy\")  \n",
    "plt.legend(['train','validation'])"
   ]
  },
  {
   "cell_type": "code",
   "execution_count": 241,
   "metadata": {
    "colab": {
     "base_uri": "https://localhost:8080/",
     "height": 312
    },
    "id": "Nua21yyOFANY",
    "outputId": "66bedc83-feaa-43ca-c4fe-c8157ad3a0ec"
   },
   "outputs": [
    {
     "data": {
      "text/plain": [
       "<matplotlib.legend.Legend at 0x7f1e18519510>"
      ]
     },
     "execution_count": 241,
     "metadata": {},
     "output_type": "execute_result"
    },
    {
     "data": {
      "image/png": "[encoded data removed]",
      "text/plain": [
       "<Figure size 432x288 with 1 Axes>"
      ]
     },
     "metadata": {
      "needs_background": "light"
     },
     "output_type": "display_data"
    }
   ],
   "source": [
    "#Gráfica de entrenamiento y validación\n",
    "plt.figure(1)  \n",
    "plt.plot(cnn.history['loss'], label='training loss')  \n",
    "plt.plot(cnn.history['val_loss'], label='val loss')   \n",
    "plt.xlabel(\"Num of Epochs\")  \n",
    "plt.ylabel(\"Loss\")  \n",
    "plt.title(\"Training Loss vs Validation Loss\")  \n",
    "plt.legend(['train','validation'])"
   ]
  },
  {
   "cell_type": "markdown",
   "metadata": {
    "id": "llyuYs6PH98Y"
   },
   "source": [
    "## Pruebas del modelo 1\n",
    "\n"
   ]
  },
  {
   "cell_type": "code",
   "execution_count": 242,
   "metadata": {
    "colab": {
     "base_uri": "https://localhost:8080/"
    },
    "id": "BiLd3jhrKrRR",
    "outputId": "1e490e0a-25ed-4f37-e773-d8137edc4916"
   },
   "outputs": [
    {
     "name": "stdout",
     "output_type": "stream",
     "text": [
      "11/40 [=======>......................] - ETA: 0s"
     ]
    },
    {
     "name": "stderr",
     "output_type": "stream",
     "text": [
      "2023-05-08 16:25:45.587584: I tensorflow/core/common_runtime/executor.cc:1197] [/device:CPU:0] (DEBUG INFO) Executor start aborting (this does not indicate an error and you can ignore this message): INVALID_ARGUMENT: You must feed a value for placeholder tensor 'Placeholder/_0' with dtype int32\n",
      "\t [[{{node Placeholder/_0}}]]\n"
     ]
    },
    {
     "name": "stdout",
     "output_type": "stream",
     "text": [
      "40/40 [==============================] - 0s 11ms/step\n"
     ]
    },
    {
     "data": {
      "text/plain": [
       "array([3, 2, 2, ..., 0, 1, 2])"
      ]
     },
     "execution_count": 242,
     "metadata": {},
     "output_type": "execute_result"
    }
   ],
   "source": [
    "#Conjunto de predicciones\n",
    "y_pred = model.predict(test_generator).round()\n",
    "y_pred_classes = np.argmax(y_pred, axis=1)\n",
    "y_pred_classes"
   ]
  },
  {
   "cell_type": "code",
   "execution_count": 243,
   "metadata": {
    "colab": {
     "base_uri": "https://localhost:8080/"
    },
    "id": "7hH5mNauHm5S",
    "outputId": "6c4680e6-4230-4e77-d563-3e6e37efe450"
   },
   "outputs": [
    {
     "data": {
      "text/plain": [
       "array([0, 0, 0, ..., 9, 9, 9], dtype=int32)"
      ]
     },
     "execution_count": 243,
     "metadata": {},
     "output_type": "execute_result"
    }
   ],
   "source": [
    "#Datos correctos\n",
    "true_classes = test_generator.classes\n",
    "y_test = np.array(true_classes)\n",
    "y_test"
   ]
  },
  {
   "cell_type": "code",
   "execution_count": 244,
   "metadata": {
    "colab": {
     "base_uri": "https://localhost:8080/"
    },
    "id": "BM_-g4ygIatI",
    "outputId": "6600c08f-47d6-4579-ed9d-227e0516a45b"
   },
   "outputs": [
    {
     "name": "stdout",
     "output_type": "stream",
     "text": [
      "  7/159 [>.............................] - ETA: 3s - loss: 0.1633 - accuracy: 0.9554"
     ]
    },
    {
     "name": "stderr",
     "output_type": "stream",
     "text": [
      "2023-05-08 16:25:50.399372: I tensorflow/core/common_runtime/executor.cc:1197] [/device:CPU:0] (DEBUG INFO) Executor start aborting (this does not indicate an error and you can ignore this message): INVALID_ARGUMENT: You must feed a value for placeholder tensor 'Placeholder/_0' with dtype int32\n",
      "\t [[{{node Placeholder/_0}}]]\n"
     ]
    },
    {
     "name": "stdout",
     "output_type": "stream",
     "text": [
      "159/159 [==============================] - 3s 20ms/step - loss: 0.1642 - accuracy: 0.9492\n",
      "\n",
      "accuracy: 94.92%\n"
     ]
    }
   ],
   "source": [
    "#Metricas de Entrenamiento\n",
    "scores = model.evaluate(train_generator)\n",
    "print(\"\\n%s: %.2f%%\" % (model.metrics_names[1], scores[1]*100))"
   ]
  },
  {
   "cell_type": "code",
   "execution_count": 245,
   "metadata": {
    "colab": {
     "base_uri": "https://localhost:8080/"
    },
    "id": "Ls0_O3KxIqQl",
    "outputId": "b5b97e9a-0c2e-446a-d4e1-25f5da090e33"
   },
   "outputs": [
    {
     "name": "stdout",
     "output_type": "stream",
     "text": [
      "16/40 [===========>..................] - ETA: 0s - loss: 0.2075 - accuracy: 0.9531"
     ]
    },
    {
     "name": "stderr",
     "output_type": "stream",
     "text": [
      "2023-05-08 16:25:54.710262: I tensorflow/core/common_runtime/executor.cc:1197] [/device:CPU:0] (DEBUG INFO) Executor start aborting (this does not indicate an error and you can ignore this message): INVALID_ARGUMENT: You must feed a value for placeholder tensor 'Placeholder/_0' with dtype int32\n",
      "\t [[{{node Placeholder/_0}}]]\n"
     ]
    },
    {
     "name": "stdout",
     "output_type": "stream",
     "text": [
      "40/40 [==============================] - 0s 11ms/step - loss: 0.1853 - accuracy: 0.9535\n",
      "\n",
      "accuracy: 95.35%\n"
     ]
    }
   ],
   "source": [
    "#Metricas de Prueba\n",
    "scores = model.evaluate(test_generator)\n",
    "print(\"\\n%s: %.2f%%\" % (model.metrics_names[1], scores[1]*100))"
   ]
  },
  {
   "cell_type": "code",
   "execution_count": 246,
   "metadata": {
    "colab": {
     "base_uri": "https://localhost:8080/"
    },
    "id": "gWFcOR5eI8wk",
    "outputId": "73631a6a-a84d-41bc-96de-66724c677d84"
   },
   "outputs": [
    {
     "name": "stdout",
     "output_type": "stream",
     "text": [
      "              precision    recall  f1-score   support\n",
      "\n",
      "   GuideSign       0.18      0.20      0.19       247\n",
      "          M1       0.06      0.06      0.06        52\n",
      "          M4       0.53      0.54      0.53       675\n",
      "          M5       0.02      0.02      0.02        45\n",
      "          M6       0.05      0.04      0.04        28\n",
      "          M7       0.05      0.05      0.05        99\n",
      "          P1       0.02      0.02      0.02        53\n",
      "      P10_50       0.00      0.00      0.00        20\n",
      "         P12       0.07      0.05      0.06        20\n",
      "          W1       0.00      0.00      0.00        31\n",
      "\n",
      "    accuracy                           0.33      1270\n",
      "   macro avg       0.10      0.10      0.10      1270\n",
      "weighted avg       0.33      0.33      0.33      1270\n",
      "\n"
     ]
    }
   ],
   "source": [
    "#Scores\n",
    "from sklearn.metrics import classification_report\n",
    "#Etiquetas\n",
    "class_labels = list(test_generator.class_indices.keys())   \n",
    "class_labels\n",
    "report = classification_report(true_classes, y_pred_classes, target_names=class_labels)\n",
    "print(report)"
   ]
  },
  {
   "cell_type": "code",
   "execution_count": 247,
   "metadata": {
    "colab": {
     "base_uri": "https://localhost:8080/"
    },
    "id": "mkScxXxlJJd-",
    "outputId": "84ba650f-b6ec-4ee2-d891-488273227eaa"
   },
   "outputs": [
    {
     "name": "stdout",
     "output_type": "stream",
     "text": [
      "[[ 50  10 144  10   6  18  12   5   4  15]\n",
      " [ 11   3  21   1   1   3   2   4   1   1]\n",
      " [132  29 362  25  11  62  30   5  11  13]\n",
      " [  7   3  23   1   4   0   2   0   1   1]\n",
      " [  5   1  10   1   1   2   1   0   0   0]\n",
      " [ 20   5  47   5   1   5   2   5   2   0]\n",
      " [  6   1  31   1   1   5   1   0   0   1]\n",
      " [  6   0  12   1   0   1   1   0   0   0]\n",
      " [  3   0   8   0   0   1   1   0   1   0]\n",
      " [  7   0  17   0   3   2   1   1   0   0]]\n"
     ]
    }
   ],
   "source": [
    "#Matriz de Confusión\n",
    "from sklearn.metrics import confusion_matrix\n",
    "cm= confusion_matrix(y_pred_classes, y_test)\n",
    "print(cm)   "
   ]
  },
  {
   "cell_type": "code",
   "execution_count": 248,
   "metadata": {
    "colab": {
     "base_uri": "https://localhost:8080/",
     "height": 322
    },
    "id": "sr8RFQ_qJM5J",
    "outputId": "69a30a36-ad88-46f3-b25e-b599ce75ba58"
   },
   "outputs": [
    {
     "data": {
      "image/png": "[encoded data removed]",
      "text/plain": [
       "<Figure size 432x288 with 2 Axes>"
      ]
     },
     "metadata": {
      "needs_background": "light"
     },
     "output_type": "display_data"
    }
   ],
   "source": [
    "#Matriz de Confusión\n",
    "import seaborn as sns\n",
    "import matplotlib.pyplot as plt\n",
    "ax = sns.heatmap(cm, annot=True, \n",
    "            linewidths=2, fmt='g', cmap='Blues')\n",
    "\n",
    "ax.set_title('Confusion Matrix\\n');\n",
    "ax.set_xlabel('\\nPredicted Values')\n",
    "ax.set_ylabel('Actual Values ');\n",
    "\n",
    "ax.xaxis.set_ticklabels(['GS', 'M1', 'M4', 'M5', 'M6', 'M7', 'P1', 'P10', 'P12', 'W1'])\n",
    "ax.yaxis.set_ticklabels(['GS', 'M1', 'M4', 'M5', 'M6', 'M7', 'P1', 'P10', 'P12', 'W1'])\n",
    "\n",
    "plt.show()"
   ]
  },
  {
   "cell_type": "code",
   "execution_count": 249,
   "metadata": {
    "colab": {
     "base_uri": "https://localhost:8080/"
    },
    "id": "zDsgX0K8Yib1",
    "outputId": "7c7df74e-4204-4ad8-bb45-66b6b1d3a77f"
   },
   "outputs": [
    {
     "data": {
      "text/plain": [
       "0.33385826771653543"
      ]
     },
     "execution_count": 249,
     "metadata": {},
     "output_type": "execute_result"
    }
   ],
   "source": [
    "#Accuracy\n",
    "from sklearn.metrics import accuracy_score\n",
    "accuracy_score(y_test,y_pred_classes)"
   ]
  },
  {
   "cell_type": "code",
   "execution_count": 250,
   "metadata": {
    "colab": {
     "base_uri": "https://localhost:8080/"
    },
    "id": "wGzpzAsHY6kH",
    "outputId": "2c2722a7-63ba-4d36-de31-e9fcbd572093"
   },
   "outputs": [
    {
     "data": {
      "text/plain": [
       "array([0.18248175, 0.0625    , 0.53235294, 0.02380952, 0.04761905,\n",
       "       0.05434783, 0.0212766 , 0.        , 0.07142857, 0.        ])"
      ]
     },
     "execution_count": 250,
     "metadata": {},
     "output_type": "execute_result"
    }
   ],
   "source": [
    "#Presicion\n",
    "from sklearn.metrics import precision_score\n",
    "precision_score(y_test,y_pred_classes, average=None)"
   ]
  },
  {
   "cell_type": "code",
   "execution_count": 251,
   "metadata": {
    "colab": {
     "base_uri": "https://localhost:8080/"
    },
    "id": "7AUByM3XZNyD",
    "outputId": "f5ffa65f-6608-47da-fedc-e0872172b3ee"
   },
   "outputs": [
    {
     "data": {
      "text/plain": [
       "array([0.20242915, 0.05769231, 0.5362963 , 0.02222222, 0.03571429,\n",
       "       0.05050505, 0.01886792, 0.        , 0.05      , 0.        ])"
      ]
     },
     "execution_count": 251,
     "metadata": {},
     "output_type": "execute_result"
    }
   ],
   "source": [
    "#Recall\n",
    "from sklearn.metrics import recall_score\n",
    "recall_score(y_test,y_pred_classes, average=None)"
   ]
  },
  {
   "cell_type": "code",
   "execution_count": 252,
   "metadata": {
    "colab": {
     "base_uri": "https://localhost:8080/"
    },
    "id": "h1jUnakSZd4L",
    "outputId": "09eb8d28-5604-4e74-c5db-61ccb099f065"
   },
   "outputs": [
    {
     "data": {
      "text/plain": [
       "array([0.19193858, 0.06      , 0.53431734, 0.02298851, 0.04081633,\n",
       "       0.05235602, 0.02      , 0.        , 0.05882353, 0.        ])"
      ]
     },
     "execution_count": 252,
     "metadata": {},
     "output_type": "execute_result"
    }
   ],
   "source": [
    "#f1 score\n",
    "from sklearn.metrics import f1_score\n",
    "f1_score(y_test,y_pred_classes, average=None)"
   ]
  },
  {
   "cell_type": "code",
   "execution_count": null,
   "metadata": {},
   "outputs": [],
   "source": []
  }
 ],
 "metadata": {
  "colab": {
   "provenance": []
  },
  "kernelspec": {
   "display_name": "Python 3 (ipykernel)",
   "language": "python",
   "name": "python3"
  },
  "language_info": {
   "codemirror_mode": {
    "name": "ipython",
    "version": 3
   },
   "file_extension": ".py",
   "mimetype": "text/x-python",
   "name": "python",
   "nbconvert_exporter": "python",
   "pygments_lexer": "ipython3",
   "version": "3.10.6"
  }
 },
 "nbformat": 4,
 "nbformat_minor": 1
}
