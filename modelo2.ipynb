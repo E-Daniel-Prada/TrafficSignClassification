{
  "nbformat": 4,
  "nbformat_minor": 0,
  "metadata": {
    "colab": {
      "provenance": []
    },
    "kernelspec": {
      "name": "python3",
      "display_name": "Python 3"
    },
    "language_info": {
      "name": "python"
    },
    "accelerator": "TPU",
    "gpuClass": "standard"
  },
  "cells": [
    {
      "cell_type": "markdown",
      "source": [
        "# ***Importar lo modulos a usar en el ejercicio***"
      ],
      "metadata": {
        "id": "bmQqgw07sxiP"
      }
    },
    {
      "cell_type": "code",
      "execution_count": 98,
      "metadata": {
        "id": "qHHWsuJ9YBMh"
      },
      "outputs": [],
      "source": [
        "import os\n",
        "import numpy as np\n",
        "import pandas as pd\n",
        "import matplotlib.pyplot as plt\n",
        "import shutil\n",
        "import tensorflow as tf\n",
        "import pathlib\n",
        "import PIL\n",
        "import time\n",
        "import zipfile\n",
        "import random\n",
        "import tensorflow as tf \n",
        "from tensorflow.keras import layers\n",
        "#import train_test_split \n",
        "from keras.utils import to_categorical \n",
        "\n",
        "from keras.models import Sequential \n",
        "from tensorflow import keras\n",
        "from tensorflow.keras import backend as K\n",
        "from tensorflow.keras.layers import Dense, Activation,Dropout,Conv2D, MaxPooling2D,BatchNormalization, Flatten\n",
        "from tensorflow.keras.optimizers import Adam, Adamax\n",
        "from tensorflow.keras.metrics import categorical_crossentropy\n",
        "from tensorflow.keras import regularizers\n",
        "from tensorflow.keras.preprocessing.image import ImageDataGenerator\n",
        "from tensorflow.keras.models import Model, load_model, Sequential\n",
        "from keras.layers import Conv2D, MaxPool2D, Dense, Flatten, Dropout"
      ]
    },
    {
      "cell_type": "markdown",
      "source": [
        "Rutas de los datos de entrenamiento y validación"
      ],
      "metadata": {
        "id": "zSFwWR96jC0L"
      }
    },
    {
      "cell_type": "code",
      "source": [
        "from google.colab import drive\n",
        "drive.mount('/content/drive')"
      ],
      "metadata": {
        "colab": {
          "base_uri": "https://localhost:8080/"
        },
        "id": "8eMhRS-0YS85",
        "outputId": "7f25335b-c679-4a0e-d819-e965f94ff1b3"
      },
      "execution_count": 99,
      "outputs": [
        {
          "output_type": "stream",
          "name": "stdout",
          "text": [
            "Drive already mounted at /content/drive; to attempt to forcibly remount, call drive.mount(\"/content/drive\", force_remount=True).\n"
          ]
        }
      ]
    },
    {
      "cell_type": "code",
      "source": [
        "MAIN_PATH = \"/content/drive/MyDrive/Colabs/DL/Taller 2/train_dataset/train\"\n",
        "TEST_PATH = \"/content/drive/MyDrive/Colabs/DL/Taller 2/test_dataset/test\"\n",
        "CLASSES = os.listdir(MAIN_PATH)\n",
        "NUM_CLASSES = len(CLASSES)\n",
        "\n",
        "HEIGHT,WIDTH = 32,32\n",
        "BATCH_SIZE = 32\n",
        "SPLIT = 0.2"
      ],
      "metadata": {
        "id": "UJVWDcsUZGZB"
      },
      "execution_count": 100,
      "outputs": []
    },
    {
      "cell_type": "markdown",
      "source": [
        "Generación de dataset de entrenamiento, validacion y test"
      ],
      "metadata": {
        "id": "kOLyiCx8jIK8"
      }
    },
    {
      "cell_type": "code",
      "source": [
        "train_datagen = tf.keras.preprocessing.image.ImageDataGenerator(\n",
        "    rescale=1./255,\n",
        "    rotation_range=20,\n",
        "    horizontal_flip=True,\n",
        "    validation_split=SPLIT)\n",
        "\n",
        "train_ds = train_datagen.flow_from_directory(\n",
        "    MAIN_PATH,\n",
        "    target_size = (HEIGHT,WIDTH),\n",
        "    batch_size = BATCH_SIZE,\n",
        "    subset = \"training\",\n",
        "    class_mode = \"categorical\",\n",
        "    shuffle = True\n",
        ")\n",
        "\n",
        "val_ds = train_datagen.flow_from_directory(\n",
        "    MAIN_PATH,\n",
        "    target_size = (HEIGHT,WIDTH),\n",
        "    batch_size = BATCH_SIZE,\n",
        "    subset = \"validation\",\n",
        "    class_mode = \"categorical\",\n",
        "    shuffle = True\n",
        ")\n",
        "\n",
        "test_datagen = tf.keras.preprocessing.image.ImageDataGenerator(\n",
        "    rescale=1./255)\n",
        "test_ds = test_datagen.flow_from_directory(\n",
        "    TEST_PATH,\n",
        "    target_size = (HEIGHT,WIDTH),\n",
        "    shuffle = False\n",
        ")"
      ],
      "metadata": {
        "colab": {
          "base_uri": "https://localhost:8080/"
        },
        "id": "QITdminNakXg",
        "outputId": "3ffad3d3-003b-4692-e0f9-10f4033bda46"
      },
      "execution_count": 101,
      "outputs": [
        {
          "output_type": "stream",
          "name": "stdout",
          "text": [
            "Found 4823 images belonging to 10 classes.\n",
            "Found 1201 images belonging to 10 classes.\n",
            "Found 324 images belonging to 10 classes.\n"
          ]
        }
      ]
    },
    {
      "cell_type": "code",
      "source": [
        "model = keras.Sequential(\n",
        "    [\n",
        "        layers.Conv2D(filters=48, kernel_size=(3, 3), activation='relu', padding='same', input_shape=[HEIGHT,WIDTH, 3]),\n",
        "        layers.MaxPooling2D((2, 2)),\n",
        "        layers.Conv2D(filters=96, kernel_size=(3, 3), activation='relu', padding='same'),\n",
        "        layers.MaxPooling2D((2, 2)),\n",
        "        layers.Flatten(),\n",
        "        layers.Dense(100, activation='relu'),\n",
        "        layers.Dense(100, activation='relu'),\n",
        "        layers.Dense(10, activation='softmax')\n",
        "    ]\n",
        "    )"
      ],
      "metadata": {
        "id": "EerV9JG2wUeA"
      },
      "execution_count": 102,
      "outputs": []
    },
    {
      "cell_type": "code",
      "source": [
        "model.compile(\n",
        "    optimizer=\"adam\",\n",
        "    loss=\"categorical_crossentropy\",\n",
        "    metrics=[\"accuracy\"],\n",
        ")"
      ],
      "metadata": {
        "id": "TzY5iBKLzPAd"
      },
      "execution_count": 103,
      "outputs": []
    },
    {
      "cell_type": "code",
      "source": [
        "print(model.summary())"
      ],
      "metadata": {
        "colab": {
          "base_uri": "https://localhost:8080/"
        },
        "id": "lHT3oVGJwXon",
        "outputId": "38908468-6a1c-4fdb-d93f-32a94ff20af1"
      },
      "execution_count": 104,
      "outputs": [
        {
          "output_type": "stream",
          "name": "stdout",
          "text": [
            "Model: \"sequential_1\"\n",
            "_________________________________________________________________\n",
            " Layer (type)                Output Shape              Param #   \n",
            "=================================================================\n",
            " conv2d_2 (Conv2D)           (None, 32, 32, 48)        1344      \n",
            "                                                                 \n",
            " max_pooling2d_2 (MaxPooling  (None, 16, 16, 48)       0         \n",
            " 2D)                                                             \n",
            "                                                                 \n",
            " conv2d_3 (Conv2D)           (None, 16, 16, 96)        41568     \n",
            "                                                                 \n",
            " max_pooling2d_3 (MaxPooling  (None, 8, 8, 96)         0         \n",
            " 2D)                                                             \n",
            "                                                                 \n",
            " flatten_1 (Flatten)         (None, 6144)              0         \n",
            "                                                                 \n",
            " dense_3 (Dense)             (None, 100)               614500    \n",
            "                                                                 \n",
            " dense_4 (Dense)             (None, 100)               10100     \n",
            "                                                                 \n",
            " dense_5 (Dense)             (None, 10)                1010      \n",
            "                                                                 \n",
            "=================================================================\n",
            "Total params: 668,522\n",
            "Trainable params: 668,522\n",
            "Non-trainable params: 0\n",
            "_________________________________________________________________\n",
            "None\n"
          ]
        }
      ]
    },
    {
      "cell_type": "code",
      "source": [
        "history = model.fit(train_ds, epochs=20,  validation_data=val_ds, batch_size = 200)"
      ],
      "metadata": {
        "colab": {
          "base_uri": "https://localhost:8080/"
        },
        "id": "AkGlGHpTwk70",
        "outputId": "4ce08606-9107-4885-a193-9e7faa8d27dd"
      },
      "execution_count": 105,
      "outputs": [
        {
          "output_type": "stream",
          "name": "stdout",
          "text": [
            "Epoch 1/20\n",
            "151/151 [==============================] - 51s 324ms/step - loss: 0.9036 - accuracy: 0.7236 - val_loss: 0.5611 - val_accuracy: 0.8310\n",
            "Epoch 2/20\n",
            "151/151 [==============================] - 53s 349ms/step - loss: 0.4682 - accuracy: 0.8586 - val_loss: 0.4396 - val_accuracy: 0.8768\n",
            "Epoch 3/20\n",
            "151/151 [==============================] - 57s 375ms/step - loss: 0.3544 - accuracy: 0.8903 - val_loss: 0.3268 - val_accuracy: 0.9067\n",
            "Epoch 4/20\n",
            "151/151 [==============================] - 53s 348ms/step - loss: 0.2757 - accuracy: 0.9169 - val_loss: 0.3172 - val_accuracy: 0.9109\n",
            "Epoch 5/20\n",
            "151/151 [==============================] - 46s 306ms/step - loss: 0.2329 - accuracy: 0.9326 - val_loss: 0.3639 - val_accuracy: 0.8918\n",
            "Epoch 6/20\n",
            "151/151 [==============================] - 49s 324ms/step - loss: 0.2082 - accuracy: 0.9388 - val_loss: 0.2173 - val_accuracy: 0.9376\n",
            "Epoch 7/20\n",
            "151/151 [==============================] - 50s 332ms/step - loss: 0.1804 - accuracy: 0.9467 - val_loss: 0.2036 - val_accuracy: 0.9459\n",
            "Epoch 8/20\n",
            "151/151 [==============================] - 49s 322ms/step - loss: 0.1512 - accuracy: 0.9573 - val_loss: 0.2269 - val_accuracy: 0.9276\n",
            "Epoch 9/20\n",
            "151/151 [==============================] - 51s 337ms/step - loss: 0.1344 - accuracy: 0.9604 - val_loss: 0.2111 - val_accuracy: 0.9409\n",
            "Epoch 10/20\n",
            "151/151 [==============================] - 49s 323ms/step - loss: 0.1178 - accuracy: 0.9660 - val_loss: 0.1830 - val_accuracy: 0.9500\n",
            "Epoch 11/20\n",
            "151/151 [==============================] - 49s 326ms/step - loss: 0.1035 - accuracy: 0.9701 - val_loss: 0.1703 - val_accuracy: 0.9525\n",
            "Epoch 12/20\n",
            "151/151 [==============================] - 50s 333ms/step - loss: 0.0995 - accuracy: 0.9708 - val_loss: 0.2308 - val_accuracy: 0.9376\n",
            "Epoch 13/20\n",
            "151/151 [==============================] - 50s 330ms/step - loss: 0.0988 - accuracy: 0.9724 - val_loss: 0.1997 - val_accuracy: 0.9450\n",
            "Epoch 14/20\n",
            "151/151 [==============================] - 49s 324ms/step - loss: 0.0871 - accuracy: 0.9774 - val_loss: 0.2275 - val_accuracy: 0.9400\n",
            "Epoch 15/20\n",
            "151/151 [==============================] - 54s 359ms/step - loss: 0.0806 - accuracy: 0.9747 - val_loss: 0.2135 - val_accuracy: 0.9450\n",
            "Epoch 16/20\n",
            "151/151 [==============================] - 66s 435ms/step - loss: 0.0851 - accuracy: 0.9737 - val_loss: 0.2085 - val_accuracy: 0.9492\n",
            "Epoch 17/20\n",
            "151/151 [==============================] - 51s 337ms/step - loss: 0.0694 - accuracy: 0.9815 - val_loss: 0.1751 - val_accuracy: 0.9542\n",
            "Epoch 18/20\n",
            "151/151 [==============================] - 47s 314ms/step - loss: 0.0731 - accuracy: 0.9799 - val_loss: 0.1995 - val_accuracy: 0.9534\n",
            "Epoch 19/20\n",
            "151/151 [==============================] - 49s 328ms/step - loss: 0.0686 - accuracy: 0.9786 - val_loss: 0.1869 - val_accuracy: 0.9525\n",
            "Epoch 20/20\n",
            "151/151 [==============================] - 49s 326ms/step - loss: 0.0672 - accuracy: 0.9820 - val_loss: 0.1920 - val_accuracy: 0.9525\n"
          ]
        }
      ]
    },
    {
      "cell_type": "code",
      "source": [
        "# Evaluate the model on the test data using `evaluate`\n",
        "print(\"Evaluate on test data\")\n",
        "results = model.evaluate(test_ds, batch_size=200)\n",
        "print(\"test loss, test acc:\", results)"
      ],
      "metadata": {
        "colab": {
          "base_uri": "https://localhost:8080/"
        },
        "id": "EuPXLegFzwLD",
        "outputId": "c8c25ce6-5112-4869-8ad8-d752cd265dae"
      },
      "execution_count": 106,
      "outputs": [
        {
          "output_type": "stream",
          "name": "stdout",
          "text": [
            "Evaluate on test data\n",
            "11/11 [==============================] - 1s 121ms/step - loss: 0.1982 - accuracy: 0.9568\n",
            "test loss, test acc: [0.19824513792991638, 0.9567901492118835]\n"
          ]
        }
      ]
    },
    {
      "cell_type": "code",
      "source": [
        "#find out what metrics you have and what they are called\n",
        "print(history.history.keys())"
      ],
      "metadata": {
        "colab": {
          "base_uri": "https://localhost:8080/"
        },
        "id": "rYvr-dNml7E9",
        "outputId": "1cdc31a2-206f-4f7a-dfa2-cddc478443fb"
      },
      "execution_count": null,
      "outputs": [
        {
          "output_type": "stream",
          "name": "stdout",
          "text": [
            "dict_keys(['loss', 'accuracy', 'val_loss', 'val_accuracy'])\n"
          ]
        }
      ]
    },
    {
      "cell_type": "code",
      "source": [
        "#Plot metrics of the model\n",
        "plt.plot(history.history['loss'])\n",
        "plt.plot(history.history['val_loss'])\n",
        "plt.plot(history.history['accuracy'])\n",
        "plt.plot(history.history['val_accuracy'])\n",
        "plt.legend(['loss', 'val_loss', 'accuracy', 'val_accuracy'])\n",
        "plt.title('Loss & Accuracy')\n",
        "plt.xlabel('epoch')"
      ],
      "metadata": {
        "colab": {
          "base_uri": "https://localhost:8080/",
          "height": 489
        },
        "id": "Wn4l-9Y03V1Q",
        "outputId": "8d1d95ec-6691-4325-c3f3-93a33d827784"
      },
      "execution_count": null,
      "outputs": [
        {
          "output_type": "execute_result",
          "data": {
            "text/plain": [
              "Text(0.5, 0, 'epoch')"
            ]
          },
          "metadata": {},
          "execution_count": 10
        },
        {
          "output_type": "display_data",
          "data": {
            "text/plain": [
              "<Figure size 640x480 with 1 Axes>"
            ],
            "image/png": "[encoded data removed]"
          },
          "metadata": {}
        }
      ]
    },
    {
      "cell_type": "code",
      "source": [
        "print(type(test_ds.filepaths))\n",
        "print(test_ds.filepaths[300])\n",
        "print(type(test_ds.labels))\n",
        "print(test_ds.labels[300])"
      ],
      "metadata": {
        "colab": {
          "base_uri": "https://localhost:8080/"
        },
        "id": "686VZ0P8_WSO",
        "outputId": "1787fc3b-f96d-4d78-e885-e0645b81179c"
      },
      "execution_count": null,
      "outputs": [
        {
          "output_type": "stream",
          "name": "stdout",
          "text": [
            "<class 'list'>\n",
            "/content/drive/MyDrive/Colabs/DL/Taller 2/test_dataset/test/P1/00188.jpg\n",
            "<class 'numpy.ndarray'>\n",
            "6\n"
          ]
        }
      ]
    },
    {
      "cell_type": "code",
      "source": [
        "predictions = model.predict(test_ds)"
      ],
      "metadata": {
        "colab": {
          "base_uri": "https://localhost:8080/"
        },
        "id": "Wi5FtWn98NWO",
        "outputId": "7ab9189a-6674-44c4-b26a-d1c2a8e43012"
      },
      "execution_count": 107,
      "outputs": [
        {
          "output_type": "stream",
          "name": "stdout",
          "text": [
            "11/11 [==============================] - 2s 126ms/step\n"
          ]
        }
      ]
    },
    {
      "cell_type": "code",
      "source": [
        "print(predictions[0])"
      ],
      "metadata": {
        "colab": {
          "base_uri": "https://localhost:8080/"
        },
        "id": "jixq6WoICKPn",
        "outputId": "0455e2ce-7490-4a58-a635-9ef5b96edc5e"
      },
      "execution_count": 108,
      "outputs": [
        {
          "output_type": "stream",
          "name": "stdout",
          "text": [
            "[9.98754323e-01 4.07318727e-11 4.42622786e-06 4.27606075e-08\n",
            " 6.77422420e-08 1.08121164e-07 8.20804402e-08 1.84069959e-09\n",
            " 4.80805298e-08 1.24092062e-03]\n"
          ]
        }
      ]
    },
    {
      "cell_type": "code",
      "source": [
        "import numpy as np\n",
        "import matplotlib.pyplot as plt\n",
        "from sklearn.metrics import confusion_matrix\n",
        "from itertools import *\n",
        "\n",
        "# Obtener la predicción de las imágenes de prueba\n",
        "preds = model.predict(test_ds, verbose=1)\n",
        "preds_classes = np.argmax(preds, axis=1)\n",
        "\n",
        "# Obtener las etiquetas verdaderas de las imágenes de prueba\n",
        "true_classes = test_ds.classes\n",
        "\n",
        "# Obtener los nombres de las clases\n",
        "class_names = list(test_ds.class_indices.keys())\n",
        "\n",
        "# Calcular la matriz de confusión\n",
        "cm = confusion_matrix(true_classes, preds_classes)\n",
        "\n",
        "# Imprimir los valores de la matriz de confusión\n",
        "print(\"Matriz de Confusión\")\n",
        "print(cm)\n",
        "\n",
        "# Graficar la matriz de confusión con los valores\n",
        "plt.figure(figsize=(10,10))\n",
        "plt.imshow(cm, interpolation='nearest', cmap=plt.cm.Blues)\n",
        "plt.title('Matriz de Confusión')\n",
        "plt.colorbar()\n",
        "tick_marks = np.arange(len(class_names))\n",
        "plt.xticks(tick_marks, class_names, rotation=90)\n",
        "plt.yticks(tick_marks, class_names)\n",
        "plt.xlabel('Clase Predicha')\n",
        "plt.ylabel('Clase Verdadera')\n",
        "\n",
        "# Imprimir los valores de la matriz de confusión en la gráfica\n",
        "thresh = cm.max() / 2.\n",
        "#for i, j in itertools.product(range(cm.shape[0]), range(cm.shape[1])):\n",
        "for i in range (cm.shape[0]):\n",
        "    for j in range (cm.shape[1]):\n",
        "      plt.text(j, i, format(cm[i, j], 'd'),\n",
        "               horizontalalignment=\"center\",\n",
        "               color=\"white\" if cm[i, j] > thresh else \"black\")\n",
        "\n",
        "plt.tight_layout()\n",
        "plt.show()\n"
      ],
      "metadata": {
        "colab": {
          "base_uri": "https://localhost:8080/",
          "height": 1000
        },
        "id": "tK72Oh4DFpSg",
        "outputId": "3627b1f3-4e6d-4752-c57f-232f892c93b6"
      },
      "execution_count": 112,
      "outputs": [
        {
          "output_type": "stream",
          "name": "stdout",
          "text": [
            "11/11 [==============================] - 4s 326ms/step\n",
            "Matriz de Confusión\n",
            "[[ 60   0   1   1   0   0   0   0   0   0]\n",
            " [  0  10   2   0   0   2   0   0   0   0]\n",
            " [  1   1 167   0   0   0   0   0   0   0]\n",
            " [  1   0   1  10   0   0   0   0   0   0]\n",
            " [  0   1   2   0   4   0   1   0   0   0]\n",
            " [  0   0   0   0   0  25   0   0   0   0]\n",
            " [  0   0   0   0   0   0  14   0   0   0]\n",
            " [  0   0   0   0   0   0   0   6   0   0]\n",
            " [  0   0   0   0   0   0   0   0   6   0]\n",
            " [  0   0   0   0   0   0   0   0   0   8]]\n"
          ]
        },
        {
          "output_type": "display_data",
          "data": {
            "text/plain": [
              "<Figure size 1000x1000 with 2 Axes>"
            ],
            "image/png": "[encoded data removed]"
          },
          "metadata": {}
        }
      ]
    },
    {
      "cell_type": "code",
      "source": [
        "from sklearn.metrics import classification_report\n",
        "\n",
        "# Obtener las predicciones del modelo en el conjunto de prueba\n",
        "y_pred = model.predict(test_ds)\n",
        "y_pred = np.argmax(y_pred, axis=1)\n",
        "\n",
        "# Obtener las etiquetas verdaderas del conjunto de prueba\n",
        "y_true = test_ds.classes\n",
        "\n",
        "# Calcular el reporte de clasificación\n",
        "target_names = list(test_ds.class_indices.keys())\n",
        "print(classification_report(y_true, y_pred, target_names=target_names))"
      ],
      "metadata": {
        "colab": {
          "base_uri": "https://localhost:8080/"
        },
        "id": "PjV_6VuWV0AU",
        "outputId": "3672f2b6-92c3-4787-f7f9-40f04ee81d7a"
      },
      "execution_count": 113,
      "outputs": [
        {
          "output_type": "stream",
          "name": "stdout",
          "text": [
            "11/11 [==============================] - 2s 155ms/step\n",
            "              precision    recall  f1-score   support\n",
            "\n",
            "   GuideSign       0.97      0.97      0.97        62\n",
            "          M1       0.83      0.71      0.77        14\n",
            "          M4       0.97      0.99      0.98       169\n",
            "          M5       0.91      0.83      0.87        12\n",
            "          M6       1.00      0.50      0.67         8\n",
            "          M7       0.93      1.00      0.96        25\n",
            "          P1       0.93      1.00      0.97        14\n",
            "      P10_50       1.00      1.00      1.00         6\n",
            "         P12       1.00      1.00      1.00         6\n",
            "          W1       1.00      1.00      1.00         8\n",
            "\n",
            "    accuracy                           0.96       324\n",
            "   macro avg       0.95      0.90      0.92       324\n",
            "weighted avg       0.96      0.96      0.95       324\n",
            "\n"
          ]
        }
      ]
    },
    {
      "cell_type": "code",
      "source": [
        "#Probing the model with random image downloaded from internet\n",
        "from PIL import Image\n",
        "img = Image.open('/content/drive/MyDrive/Colabs/DL/Taller 2/Imag_Prueba_Modelo.jpg')\n",
        "img = img.resize((HEIGHT, WIDTH))\n",
        "img_array = np.array(img) / 255.0\n",
        "img_array = np.expand_dims(img_array, axis=0)\n",
        "prediction = model.predict(img_array)\n",
        "predicted_class = np.argmax(prediction[0])\n",
        "class_names = list(train_ds.class_indices.keys())\n",
        "class_name = class_names[predicted_class]\n",
        "print(\"La imagen se clasifica como:\", class_name)"
      ],
      "metadata": {
        "colab": {
          "base_uri": "https://localhost:8080/"
        },
        "id": "eLaUCbCmWMSf",
        "outputId": "b947a367-ed13-4e9f-c3d2-9f44f3851c4b"
      },
      "execution_count": 114,
      "outputs": [
        {
          "output_type": "stream",
          "name": "stdout",
          "text": [
            "1/1 [==============================] - 0s 108ms/step\n",
            "La imagen se clasifica como: W1\n"
          ]
        }
      ]
    }
  ]
}